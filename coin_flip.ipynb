{
  "nbformat": 4,
  "nbformat_minor": 0,
  "metadata": {
    "colab": {
      "name": "coin_flip.ipynb",
      "provenance": []
    },
    "kernelspec": {
      "name": "python3",
      "display_name": "Python 3"
    },
    "language_info": {
      "name": "python"
    }
  },
  "cells": [
    {
      "cell_type": "markdown",
      "metadata": {
        "id": "937XET-GgGAV"
      },
      "source": [
        "[![Open In Colab](https://colab.research.google.com/assets/colab-badge.svg)](https://colab.research.google.com/drive/1eNmcqb-mN4VezC_l8Uoj1GGCfftqqY1y?usp=sharing)"
      ]
    },
    {
      "cell_type": "markdown",
      "metadata": {
        "id": "gAfy1HfopKNB"
      },
      "source": [
        "Lets consider a simple model of a coin flip where the dynamics of the\n",
        "coin are governed by equations of motion and our flip sets the initial conditions for the dynamics. We describe the coin by its height $y$, from a surface and it’s orientation $\\theta$ in space. Lets use $y = 0$ as the height of my desk and set that equal to the height of my hand. And lets consider $\\theta = 0$ to be the angle when the coin is facing up (heads).\n",
        "\n",
        "When we flip the coin it will translate and rotate with dynamics modeled by Newton’s equations. The translational motion of the coin will be described by $F = ma$ where $F$ is a force, $m$ is the mass of the coin and $a = \\frac{d^2x}{dt^2}$ and the rotation of the coin is due to torque. While the coin is moving\n",
        "through the area we are going to model the coin as being subject to the force of gravity and to experience no net torque.\n",
        "\n",
        "Let's write down two equations of motion for the coin:"
      ]
    },
    {
      "cell_type": "markdown",
      "metadata": {
        "id": "aVzDuudSmmbu"
      },
      "source": [
        "\\begin{equation}\n",
        "\\tag{1}\n",
        "m\\frac{d^{2}y(t)}{dt^{2}} = -mg\n",
        "\\end{equation}\n",
        "\n",
        "\\begin{equation}\n",
        "\\tag{2}\n",
        "\\frac{d^2\\theta(t)}{dt^{2}} = 0\n",
        "\\end{equation}"
      ]
    },
    {
      "cell_type": "markdown",
      "metadata": {
        "id": "HRsbADWmqTKi"
      },
      "source": [
        "where the first equation accounts for the acceleration of $y$ under the constant force of gravity $−mg$ where $m$ is mass and $g$ is gravitational acceleration. The second equation accounts for the angular rotation of the coin, and we have modeled the coin as experiencing no net angular force as a\n",
        "reasonable approximation.\n",
        "\n",
        "Now, we can solve (1) and (2) for $y(t)$ and $\\theta(t)$.\n",
        "\n",
        "We have:"
      ]
    },
    {
      "cell_type": "markdown",
      "metadata": {
        "id": "g-w-uOXrgW5l"
      },
      "source": [
        "\\begin{equation}\n",
        "\\tag{1}\n",
        "\\end{equation}\n",
        "$$\\begin{eqnarray}\n",
        "m\\frac{d^{2}y(t)}{dt^{2}} &=& -mg\\\\[5pt]\n",
        "\\frac{d^{2}y(t)}{dt^{2}} &=& -g\\\\[5pt]\n",
        "\\int_{0}^{t}\\frac{d^{2}y(t)}{dt^{2}}dt &=& \\int_{0}^{t}[-g]dt\\\\[5pt]\n",
        "\\left.\\frac{dy(t)}{dt}\\right\\rvert_{t} - \\left.\\frac{dy(t)}{dt}\\right\\rvert_{t = 0} &=& -gt\\\\[5pt]\n",
        "\\frac{dy(t)}{dt} &=& \\left.\\frac{dy(t)}{dt}\\right\\rvert_{t = 0} -gt\\\\[5pt]\n",
        "\\frac{dy(t)}{dt} &=& v_0 -gt\\\\[5pt]\n",
        "\\int_{0}^{t} \\frac{dy(t)}{dt} dt &=& \\int_{0}^{t} [v_0 -gt ]dt\\\\[5pt]\n",
        "\\left.y(t)\\right\\rvert_{t} - \\left.y(t)\\right\\rvert_{t = 0} &=& \\int_{0}^{t} [v_0] dt - \\int_{0}^{t}[gt]dt\\\\[5pt]\n",
        "y(t) - y(0) &=& v_0t - \\frac{1}{2}gt^{2}\\\\[5pt]\n",
        "y(t) &=& y(0)+ v_0t - \\frac{1}{2}gt^{2}\\\\[5pt]\n",
        "\\end{eqnarray}$$"
      ]
    },
    {
      "cell_type": "markdown",
      "metadata": {
        "id": "sQlM5IFPgZ4P"
      },
      "source": [
        "\\begin{equation}\n",
        "\\tag{2}\n",
        "\\end{equation}\n",
        "$$\\begin{eqnarray}\n",
        "\\frac{d^2\\theta(t)}{dt^{2}} &=& 0\\\\[5pt]\n",
        "\\int_{0}^{t} \\frac{d^2\\theta(t)}{dt^{2}} dt &=& \\int_{0}^{t}[0]dt\\\\[5pt]\n",
        "\\left.\\frac{d\\theta(t)}{dt}\\right\\rvert_{t} - \\left.\\frac{d\\theta(t)}{dt}\\right\\rvert_{t = 0} &=& 0\\\\[5pt]\n",
        "\\left.\\frac{d\\theta(t)}{dt}\\right\\rvert_{t} &=& \\left.\\frac{d\\theta(t)}{dt}\\right\\rvert_{t = 0}\\\\[5pt]\n",
        "\\frac{d\\theta(t)}{dt} &=& \\omega_{0}\\\\[5pt]\n",
        "\\int_{0}^{t} \\frac{d\\theta(t)}{dt} &=& \\int_{0}^{t}[\\omega_{0}]dt\\\\[5pt]\n",
        "\\left.\\theta(t)\\right\\rvert_{t} - \\left.\\theta(t)\\right\\rvert_{t = 0} &=& \\omega_{0}t\\\\[5pt]\n",
        "\\theta(t) &=& \\theta(0)+ \\omega_{0}t\n",
        "\\end{eqnarray}$$"
      ]
    },
    {
      "cell_type": "markdown",
      "metadata": {
        "id": "yTG3dxj3h0xB"
      },
      "source": [
        "Lets take $y(0) = 0$ and $\\theta(0) = 0$, so that we consider the coin initially at a height of $0$ and facing up (heads) parallel to the table.\n",
        "\n",
        "$$\\begin{eqnarray}\n",
        "y(t) &=& v_{0}t - \\frac{1}{2}gt^{2}\\\\[5pt]\n",
        "\\theta(t) &=& \\omega_{0}t\n",
        "\\end{eqnarray}$$\n"
      ]
    },
    {
      "cell_type": "markdown",
      "metadata": {
        "id": "NCqQ1B8AsfEz"
      },
      "source": [
        "These equations specify the height and angle of the coin as a function of time given the initial translational velocity of the coin, $v0$, and the initial rotation, $\\omega_0$. Given the velocity and rotation of the coin, we have a complete description of the coin’s position and orientation and we can predict how it will fall. So far no randomness."
      ]
    },
    {
      "cell_type": "markdown",
      "metadata": {
        "id": "KpMXhzE0h7xI"
      },
      "source": [
        "Now, we can solve the first equation for the $t$ at which $y(t) = 0$ and then use that to determine the angle of the coin at that critical time in the second equation.\n",
        "\n",
        "$$\\begin{eqnarray}\n",
        "0 &=& v_{0}t - \\frac{1}{2}gt^{2}\\\\[1pt]\n",
        "&=& t(v_{0} - \\frac{1}{2} gt)\\\\[1pt]\n",
        "t^{*} &=& \\frac{2v_{0}}{g}\n",
        "\\end{eqnarray}$$"
      ]
    },
    {
      "cell_type": "markdown",
      "metadata": {
        "id": "ty65vziKiaXb"
      },
      "source": [
        "and therefore,\n",
        "\n",
        "$$\\begin{eqnarray}\n",
        "\\theta(t^*) &=& \\frac{2\\omega_{0}v_{0}}{g}\\\\\n",
        "\\end{eqnarray}$$"
      ]
    },
    {
      "cell_type": "markdown",
      "metadata": {
        "id": "9ZfbJErXisja"
      },
      "source": [
        "Notice, that $\\theta(t^{*}) \\in \\mathbb{R}$. In order to associate $\\theta(t^{*})$ with H or T, lets us the $\\cos$ function. \n",
        "\n",
        "$$\\cos(\\theta(t^{*})) = \\cos(\\frac{2\\omega_{0}v_{0}}{g})$$\n",
        "\n",
        "We can write a python function for $\\cos(\\theta(t^{∗}))$ that takes in the two parameters $\\omega_0$ and $v_0$. We also set $g = 9.80665\\, \\text{m/s}^2 $"
      ]
    },
    {
      "cell_type": "code",
      "metadata": {
        "id": "TYRm-FJNjDc-"
      },
      "source": [
        "import numpy as np\n",
        "def cos_theta_t(omega_0, v_0):\n",
        "    return np.cos((2 * omega_0 * v_0)/ 9.80665)    "
      ],
      "execution_count": 1,
      "outputs": []
    },
    {
      "cell_type": "markdown",
      "metadata": {
        "id": "24ina8eFvy8H"
      },
      "source": [
        "We can evaluate the function $\\cos(\\theta(t^{*}))$ for values of $\\omega_{0}$ and $v_0$ in the interval $[0, 30]$."
      ]
    },
    {
      "cell_type": "code",
      "metadata": {
        "id": "-nSYIhHsvosv"
      },
      "source": [
        "w_0 = np.linspace(0,30, num = 1000)\n",
        "v_0 = np.linspace(0,30, num = 1000)\n",
        "w_0, v_0 = np.meshgrid(w_0, v_0)"
      ],
      "execution_count": 2,
      "outputs": []
    },
    {
      "cell_type": "markdown",
      "metadata": {
        "id": "MsXYzf7vuUNJ"
      },
      "source": [
        "and we know that:\n",
        "\n",
        "$$\\mathbb{I} = \\begin{cases} \n",
        "      H & \\text{if} \\cos\\left(\\frac{\\omega_0v_0}{g}\\right) \\geq 0 \\\\\n",
        "      T & \\text{if} \\cos\\left(\\frac{\\omega_0v_0}{g}\\right) < 0\n",
        "   \\end{cases}$$"
      ]
    },
    {
      "cell_type": "code",
      "metadata": {
        "id": "6mpyaKQXvaKo"
      },
      "source": [
        "I = cos_theta_t(w_0, v_0)\n",
        "# To work with arrays of numbers, we need to encode H and T as 0 and 1, respectively.\n",
        "# H -> 0, T -> 1\n",
        "I[I >= 0] = 0\n",
        "I[I < 0] = 1"
      ],
      "execution_count": 3,
      "outputs": []
    },
    {
      "cell_type": "markdown",
      "metadata": {
        "id": "sswcEPYPOsLO"
      },
      "source": [
        "Now, notice that the solution depends upon two parameters $\\omega_0$ and $v_0$.\n",
        "Once I know the initial translational and angular velocity of the coin, I can (in this simple model), determine exactly what the outcome of my random experiment will be. In fact, using these solutions we can plot the state of the coin (H -> purple, T -> yellow) as a function of the initial conditions $\\omega_{0}$, $v_0$."
      ]
    },
    {
      "cell_type": "code",
      "metadata": {
        "colab": {
          "base_uri": "https://localhost:8080/",
          "height": 570
        },
        "id": "8L_anx-awYRv",
        "outputId": "42491a1b-37f8-48ea-aedf-2a30609b26e3"
      },
      "source": [
        "import matplotlib.pyplot as plt\n",
        "\n",
        "fig = plt.figure(dpi = 150, figsize=(4,4))\n",
        "plt.contourf(v_0, w_0, I)\n",
        "plt.xlabel('$v_0$')\n",
        "plt.ylabel('$\\omega_{0}$');"
      ],
      "execution_count": 4,
      "outputs": [
        {
          "output_type": "display_data",
          "data": {
            "image/png": "[encoded data removed]",
            "text/plain": [
              "<Figure size 600x600 with 1 Axes>"
            ]
          },
          "metadata": {
            "needs_background": "light"
          }
        }
      ]
    }
  ]
}